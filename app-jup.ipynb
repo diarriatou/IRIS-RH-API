{
 "cells": [
  {
   "cell_type": "markdown",
   "metadata": {},
   "source": [
    "## Importation"
   ]
  },
  {
   "cell_type": "code",
   "execution_count": 4,
   "metadata": {},
   "outputs": [],
   "source": [
    "import streamlit as st\n",
    "import os\n",
    "import chromadb\n",
    "from chromadb.utils.embedding_functions import SentenceTransformerEmbeddingFunction\n",
    "import base64\n",
    "from langchain_community.llms import Ollama\n",
    "# from langchain_openai import ChatOpenAI\n",
    "from langchain_community.document_loaders import PyPDFLoader, Docx2txtLoader\n",
    "from langchain.text_splitter import RecursiveCharacterTextSplitter\n",
    "from langchain_core.prompts import ChatPromptTemplate\n",
    "from langchain_core.output_parsers import StrOutputParser\n",
    "import tempfile\n"
   ]
  },
  {
   "cell_type": "markdown",
   "metadata": {},
   "source": [
    "### Configuration de Chromadb"
   ]
  },
  {
   "cell_type": "code",
   "execution_count": 5,
   "metadata": {},
   "outputs": [
    {
     "name": "stderr",
     "output_type": "stream",
     "text": [
      "/Users/mamadou.sene/Personnel/IRIS_RH/venv/lib/python3.13/site-packages/tqdm/auto.py:21: TqdmWarning: IProgress not found. Please update jupyter and ipywidgets. See https://ipywidgets.readthedocs.io/en/stable/user_install.html\n",
      "  from .autonotebook import tqdm as notebook_tqdm\n"
     ]
    }
   ],
   "source": [
    "\n",
    "chroma_client = chromadb.PersistentClient(path=\"chromadb-vdb\")\n",
    "embedding_function = SentenceTransformerEmbeddingFunction(model_name=\"all-MiniLM-L6-v2\")\n",
    "chroma_vdb = chroma_client.get_or_create_collection(\n",
    "    name=\"cv_database\",\n",
    "    embedding_function=embedding_function,\n",
    ")\n"
   ]
  },
  {
   "cell_type": "markdown",
   "metadata": {},
   "source": [
    "# Configuration du modèle Ollama"
   ]
  },
  {
   "cell_type": "code",
   "execution_count": 4,
   "metadata": {},
   "outputs": [
    {
     "name": "stderr",
     "output_type": "stream",
     "text": [
      "/var/folders/5b/5pvhxf610tz2w571xs03t9sr0000gp/T/ipykernel_765/1169503606.py:1: LangChainDeprecationWarning: The class `Ollama` was deprecated in LangChain 0.3.1 and will be removed in 1.0.0. An updated version of the class exists in the :class:`~langchain-ollama package and should be used instead. To use it run `pip install -U :class:`~langchain-ollama` and import as `from :class:`~langchain_ollama import OllamaLLM``.\n",
      "  llm = Ollama(\n"
     ]
    }
   ],
   "source": [
    "\n",
    "llm = Ollama(\n",
    "    model=\"llama2\",\n",
    "    base_url=\"http://18.130.190.88:11434\",  # URL explicite\n",
    "    timeout=120,  # Augmentation du timeout\n",
    ")\n"
   ]
  },
  {
   "cell_type": "markdown",
   "metadata": {},
   "source": [
    "# Configuration du text splitter"
   ]
  },
  {
   "cell_type": "code",
   "execution_count": 5,
   "metadata": {},
   "outputs": [],
   "source": [
    "\n",
    "text_splitter = RecursiveCharacterTextSplitter(\n",
    "    chunk_size=1000,\n",
    "    chunk_overlap=200,\n",
    "    length_function=len,\n",
    ")"
   ]
  },
  {
   "cell_type": "markdown",
   "metadata": {},
   "source": [
    "# Template pour le prompt"
   ]
  },
  {
   "cell_type": "code",
   "execution_count": 8,
   "metadata": {},
   "outputs": [],
   "source": [
    "\n",
    "\n",
    "prompt_template = \"\"\"\n",
    "Contexte: {context}\n",
    "\n",
    "Question: {question}\n",
    "\n",
    "Répondez à la question en utilisant uniquement le contexte fourni.\n",
    "Si vous ne pouvez pas répondre à la question à partir du contexte, dites-le clairement.\n",
    "\n",
    "Réponse:\n",
    "\"\"\"\n",
    "\n",
    "prompt = ChatPromptTemplate.from_template(prompt_template)\n",
    "parser = StrOutputParser()\n",
    "\n",
    "# Chaîne de traitement\n",
    "chain = prompt | llm | parser"
   ]
  },
  {
   "cell_type": "markdown",
   "metadata": {},
   "source": [
    "Traite un document (PDF ou Word) et retourne son contenu texte"
   ]
  },
  {
   "cell_type": "code",
   "execution_count": 9,
   "metadata": {},
   "outputs": [],
   "source": [
    "def process_document(file):\n",
    "    \"\"\"Traite un document (PDF ou Word) et retourne son contenu.\"\"\"\n",
    "    with tempfile.NamedTemporaryFile(delete=False) as temp_file:\n",
    "        temp_file.write(file.getvalue())\n",
    "        file_path = temp_file.name\n",
    "\n",
    "    try:\n",
    "        if file.name.endswith('.pdf'):\n",
    "            loader = PyPDFLoader(file_path)\n",
    "            pages = loader.load()\n",
    "            text = ' '.join([page.page_content for page in pages])\n",
    "        elif file.name.endswith('.docx') or file.name.endswith('.doc'):\n",
    "            loader = Docx2txtLoader(file_path)\n",
    "            text = loader.load()[0].page_content\n",
    "        else:\n",
    "            raise ValueError(\"Format de fichier non supporté\")\n",
    "        \n",
    "        return text\n",
    "    finally:\n",
    "        os.unlink(file_path)\n"
   ]
  },
  {
   "cell_type": "markdown",
   "metadata": {},
   "source": [
    "## Ajoute un document à la base de données vectorielle sachant le texte avec la methode process_document et l'id du document"
   ]
  },
  {
   "cell_type": "code",
   "execution_count": 10,
   "metadata": {},
   "outputs": [],
   "source": [
    "\n",
    "def add_document_to_vectorstore(text, document_id):\n",
    "    \"\"\"Ajoute un document à la base de données vectorielle.\"\"\"\n",
    "    chunks = text_splitter.split_text(text)\n",
    "    \n",
    "    # Ajout des chunks à Chroma\n",
    "    chroma_vdb.add(\n",
    "        documents=chunks,\n",
    "        ids=[f\"{document_id}-chunk-{i}\" for i in range(len(chunks))],\n",
    "        metadatas=[{\"document_id\": document_id} for _ in range(len(chunks))]\n",
    "    )\n"
   ]
  },
  {
   "cell_type": "markdown",
   "metadata": {},
   "source": [
    "## Recherche sémantiques des documents pertinents"
   ]
  },
  {
   "cell_type": "code",
   "execution_count": 6,
   "metadata": {},
   "outputs": [],
   "source": [
    "\n",
    "def search_documents(query):\n",
    "    \"\"\"Recherche les documents pertinents.\"\"\"\n",
    "    results = chroma_vdb.query(\n",
    "        query_texts=[query],\n",
    "        n_results=3\n",
    "    )\n",
    "    return results\n"
   ]
  },
  {
   "cell_type": "code",
   "execution_count": 9,
   "metadata": {},
   "outputs": [
    {
     "name": "stderr",
     "output_type": "stream",
     "text": [
      "Add of existing embedding ID: Professional Docs & Interview Prep Resume in Black White UConn Brand Style.pdf-chunk-0\n",
      "Add of existing embedding ID: Professional Docs & Interview Prep Resume in Black White UConn Brand Style.pdf-chunk-1\n",
      "Add of existing embedding ID: Professional Docs & Interview Prep Resume in Black White UConn Brand Style.pdf-chunk-2\n",
      "Add of existing embedding ID: Black White Minimalist CV Resume.pdf-chunk-0\n",
      "Add of existing embedding ID: Black White Minimalist CV Resume.pdf-chunk-1\n",
      "Add of existing embedding ID: Black White Minimalist CV Resume.pdf-chunk-2\n",
      "Add of existing embedding ID: Black White Minimalist CV Resume.pdf-chunk-3\n",
      "Add of existing embedding ID: Moussa THIOR - CV 2.docx-chunk-0\n",
      "Add of existing embedding ID: Moussa THIOR - CV 2.docx-chunk-1\n",
      "Add of existing embedding ID: CV_Samba.pdf-chunk-0\n",
      "Add of existing embedding ID: Grey White Black Minimalist CV Resume.pdf-chunk-0\n",
      "Add of existing embedding ID: CV_TEST.pdf-chunk-0\n",
      "Add of existing embedding ID: CV_Gnagna_Sarr_Valide.pdf-chunk-0\n",
      "Add of existing embedding ID: CV_Gnagna_Sarr_Valide.pdf-chunk-1\n",
      "Add of existing embedding ID: CV_Gnagna_Sarr_Valide.pdf-chunk-2\n",
      "Add of existing embedding ID: CV_Gnagna_Sarr_Valide.pdf-chunk-3\n",
      "Add of existing embedding ID: CV_Mame_Diarra.pdf-chunk-0\n",
      "Add of existing embedding ID: CV_Mame_Diarra.pdf-chunk-1\n",
      "Add of existing embedding ID: CV_Mame_Diarra.pdf-chunk-2\n",
      "Add of existing embedding ID: CV_Mame_Diarra.pdf-chunk-3\n",
      "Add of existing embedding ID: CV Français Professionnel Simple Moderne Beige.pdf-chunk-0\n",
      "Add of existing embedding ID: CV Français Professionnel Simple Moderne Beige.pdf-chunk-1\n",
      "Add of existing embedding ID: cv_Cheikh_Ndiaye.docx-chunk-0\n",
      "Add of existing embedding ID: cv_Cheikh_Ndiaye.docx-chunk-1\n",
      "Add of existing embedding ID: Professinal CV Resume.pdf-chunk-0\n",
      "Add of existing embedding ID: Professinal CV Resume.pdf-chunk-1\n",
      "Add of existing embedding ID: Professinal CV Resume.pdf-chunk-2\n",
      "Add of existing embedding ID: Professional Docs & Interview Prep Resume in Black White UConn Brand Style.pdf-chunk-0\n",
      "Add of existing embedding ID: Professional Docs & Interview Prep Resume in Black White UConn Brand Style.pdf-chunk-1\n",
      "Add of existing embedding ID: Professional Docs & Interview Prep Resume in Black White UConn Brand Style.pdf-chunk-2\n",
      "Add of existing embedding ID: Black White Minimalist CV Resume.pdf-chunk-0\n",
      "Add of existing embedding ID: Black White Minimalist CV Resume.pdf-chunk-1\n",
      "Add of existing embedding ID: Black White Minimalist CV Resume.pdf-chunk-2\n",
      "Add of existing embedding ID: Black White Minimalist CV Resume.pdf-chunk-3\n",
      "Add of existing embedding ID: Moussa THIOR - CV 2.docx-chunk-0\n",
      "Add of existing embedding ID: Moussa THIOR - CV 2.docx-chunk-1\n",
      "Add of existing embedding ID: CV_Samba.pdf-chunk-0\n",
      "Add of existing embedding ID: Grey White Black Minimalist CV Resume.pdf-chunk-0\n",
      "Add of existing embedding ID: CV_TEST.pdf-chunk-0\n",
      "Add of existing embedding ID: CV_Gnagna_Sarr_Valide.pdf-chunk-0\n",
      "Add of existing embedding ID: CV_Gnagna_Sarr_Valide.pdf-chunk-1\n",
      "Add of existing embedding ID: CV_Gnagna_Sarr_Valide.pdf-chunk-2\n",
      "Add of existing embedding ID: CV_Gnagna_Sarr_Valide.pdf-chunk-3\n",
      "Add of existing embedding ID: CV_Mame_Diarra.pdf-chunk-0\n",
      "Add of existing embedding ID: CV_Mame_Diarra.pdf-chunk-1\n",
      "Add of existing embedding ID: CV_Mame_Diarra.pdf-chunk-2\n",
      "Add of existing embedding ID: CV_Mame_Diarra.pdf-chunk-3\n",
      "Add of existing embedding ID: CV Français Professionnel Simple Moderne Beige.pdf-chunk-0\n",
      "Add of existing embedding ID: CV Français Professionnel Simple Moderne Beige.pdf-chunk-1\n",
      "Add of existing embedding ID: cv_Cheikh_Ndiaye.docx-chunk-0\n",
      "Add of existing embedding ID: cv_Cheikh_Ndiaye.docx-chunk-1\n",
      "Add of existing embedding ID: Professinal CV Resume.pdf-chunk-0\n",
      "Add of existing embedding ID: Professinal CV Resume.pdf-chunk-1\n",
      "Add of existing embedding ID: Professinal CV Resume.pdf-chunk-2\n",
      "Add of existing embedding ID: Professional Docs & Interview Prep Resume in Black White UConn Brand Style.pdf-chunk-0\n",
      "Add of existing embedding ID: Professional Docs & Interview Prep Resume in Black White UConn Brand Style.pdf-chunk-1\n",
      "Add of existing embedding ID: Professional Docs & Interview Prep Resume in Black White UConn Brand Style.pdf-chunk-2\n",
      "Add of existing embedding ID: Black White Minimalist CV Resume.pdf-chunk-0\n",
      "Add of existing embedding ID: Black White Minimalist CV Resume.pdf-chunk-1\n",
      "Add of existing embedding ID: Black White Minimalist CV Resume.pdf-chunk-2\n",
      "Add of existing embedding ID: Black White Minimalist CV Resume.pdf-chunk-3\n",
      "Add of existing embedding ID: Moussa THIOR - CV 2.docx-chunk-0\n",
      "Add of existing embedding ID: Moussa THIOR - CV 2.docx-chunk-1\n",
      "Add of existing embedding ID: CV_Samba.pdf-chunk-0\n",
      "Add of existing embedding ID: Grey White Black Minimalist CV Resume.pdf-chunk-0\n",
      "Add of existing embedding ID: CV_TEST.pdf-chunk-0\n",
      "Add of existing embedding ID: CV_Gnagna_Sarr_Valide.pdf-chunk-0\n",
      "Add of existing embedding ID: CV_Gnagna_Sarr_Valide.pdf-chunk-1\n",
      "Add of existing embedding ID: CV_Gnagna_Sarr_Valide.pdf-chunk-2\n",
      "Add of existing embedding ID: CV_Gnagna_Sarr_Valide.pdf-chunk-3\n",
      "Add of existing embedding ID: CV_Mame_Diarra.pdf-chunk-0\n",
      "Add of existing embedding ID: CV_Mame_Diarra.pdf-chunk-1\n",
      "Add of existing embedding ID: CV_Mame_Diarra.pdf-chunk-2\n",
      "Add of existing embedding ID: CV_Mame_Diarra.pdf-chunk-3\n",
      "Add of existing embedding ID: CV Français Professionnel Simple Moderne Beige.pdf-chunk-0\n",
      "Add of existing embedding ID: CV Français Professionnel Simple Moderne Beige.pdf-chunk-1\n",
      "Add of existing embedding ID: cv_Cheikh_Ndiaye.docx-chunk-0\n",
      "Add of existing embedding ID: cv_Cheikh_Ndiaye.docx-chunk-1\n",
      "Add of existing embedding ID: Professinal CV Resume.pdf-chunk-0\n",
      "Add of existing embedding ID: Professinal CV Resume.pdf-chunk-1\n",
      "Add of existing embedding ID: Professinal CV Resume.pdf-chunk-2\n",
      "Add of existing embedding ID: Professional Docs & Interview Prep Resume in Black White UConn Brand Style.pdf-chunk-0\n",
      "Add of existing embedding ID: Professional Docs & Interview Prep Resume in Black White UConn Brand Style.pdf-chunk-1\n",
      "Add of existing embedding ID: Professional Docs & Interview Prep Resume in Black White UConn Brand Style.pdf-chunk-2\n",
      "Add of existing embedding ID: Black White Minimalist CV Resume.pdf-chunk-0\n",
      "Add of existing embedding ID: Black White Minimalist CV Resume.pdf-chunk-1\n",
      "Add of existing embedding ID: Black White Minimalist CV Resume.pdf-chunk-2\n",
      "Add of existing embedding ID: Black White Minimalist CV Resume.pdf-chunk-3\n",
      "Add of existing embedding ID: Moussa THIOR - CV 2.docx-chunk-0\n",
      "Add of existing embedding ID: Moussa THIOR - CV 2.docx-chunk-1\n",
      "Add of existing embedding ID: CV_Samba.pdf-chunk-0\n",
      "Add of existing embedding ID: Grey White Black Minimalist CV Resume.pdf-chunk-0\n",
      "Add of existing embedding ID: CV_TEST.pdf-chunk-0\n",
      "Add of existing embedding ID: CV_Gnagna_Sarr_Valide.pdf-chunk-0\n",
      "Add of existing embedding ID: CV_Gnagna_Sarr_Valide.pdf-chunk-1\n",
      "Add of existing embedding ID: CV_Gnagna_Sarr_Valide.pdf-chunk-2\n",
      "Add of existing embedding ID: CV_Gnagna_Sarr_Valide.pdf-chunk-3\n",
      "Add of existing embedding ID: CV_Mame_Diarra.pdf-chunk-0\n",
      "Add of existing embedding ID: CV_Mame_Diarra.pdf-chunk-1\n",
      "Add of existing embedding ID: CV_Mame_Diarra.pdf-chunk-2\n",
      "Add of existing embedding ID: CV_Mame_Diarra.pdf-chunk-3\n",
      "Add of existing embedding ID: CV Français Professionnel Simple Moderne Beige.pdf-chunk-0\n",
      "Add of existing embedding ID: CV Français Professionnel Simple Moderne Beige.pdf-chunk-1\n",
      "Add of existing embedding ID: cv_Cheikh_Ndiaye.docx-chunk-0\n",
      "Add of existing embedding ID: cv_Cheikh_Ndiaye.docx-chunk-1\n",
      "Add of existing embedding ID: Professinal CV Resume.pdf-chunk-0\n",
      "Add of existing embedding ID: Professinal CV Resume.pdf-chunk-1\n",
      "Add of existing embedding ID: Professinal CV Resume.pdf-chunk-2\n",
      "Add of existing embedding ID: Professional Docs & Interview Prep Resume in Black White UConn Brand Style.pdf-chunk-0\n",
      "Add of existing embedding ID: Professional Docs & Interview Prep Resume in Black White UConn Brand Style.pdf-chunk-1\n",
      "Add of existing embedding ID: Professional Docs & Interview Prep Resume in Black White UConn Brand Style.pdf-chunk-2\n",
      "Add of existing embedding ID: Black White Minimalist CV Resume.pdf-chunk-0\n",
      "Add of existing embedding ID: Black White Minimalist CV Resume.pdf-chunk-1\n",
      "Add of existing embedding ID: Black White Minimalist CV Resume.pdf-chunk-2\n",
      "Add of existing embedding ID: Black White Minimalist CV Resume.pdf-chunk-3\n",
      "Add of existing embedding ID: Moussa THIOR - CV 2.docx-chunk-0\n",
      "Add of existing embedding ID: Moussa THIOR - CV 2.docx-chunk-1\n",
      "Add of existing embedding ID: CV_Samba.pdf-chunk-0\n",
      "Add of existing embedding ID: Grey White Black Minimalist CV Resume.pdf-chunk-0\n",
      "Add of existing embedding ID: CV_TEST.pdf-chunk-0\n",
      "Add of existing embedding ID: CV_Gnagna_Sarr_Valide.pdf-chunk-0\n",
      "Add of existing embedding ID: CV_Gnagna_Sarr_Valide.pdf-chunk-1\n",
      "Add of existing embedding ID: CV_Gnagna_Sarr_Valide.pdf-chunk-2\n",
      "Add of existing embedding ID: CV_Gnagna_Sarr_Valide.pdf-chunk-3\n",
      "Add of existing embedding ID: CV_Mame_Diarra.pdf-chunk-0\n",
      "Add of existing embedding ID: CV_Mame_Diarra.pdf-chunk-1\n",
      "Add of existing embedding ID: CV_Mame_Diarra.pdf-chunk-2\n",
      "Add of existing embedding ID: CV_Mame_Diarra.pdf-chunk-3\n",
      "Add of existing embedding ID: CV Français Professionnel Simple Moderne Beige.pdf-chunk-0\n",
      "Add of existing embedding ID: CV Français Professionnel Simple Moderne Beige.pdf-chunk-1\n",
      "Add of existing embedding ID: cv_Cheikh_Ndiaye.docx-chunk-0\n",
      "Add of existing embedding ID: cv_Cheikh_Ndiaye.docx-chunk-1\n",
      "Add of existing embedding ID: Professinal CV Resume.pdf-chunk-0\n",
      "Add of existing embedding ID: Professinal CV Resume.pdf-chunk-1\n",
      "Add of existing embedding ID: Professinal CV Resume.pdf-chunk-2\n",
      "Add of existing embedding ID: Professional Docs & Interview Prep Resume in Black White UConn Brand Style.pdf-chunk-0\n",
      "Add of existing embedding ID: Professional Docs & Interview Prep Resume in Black White UConn Brand Style.pdf-chunk-1\n",
      "Add of existing embedding ID: Professional Docs & Interview Prep Resume in Black White UConn Brand Style.pdf-chunk-2\n",
      "Add of existing embedding ID: Black White Minimalist CV Resume.pdf-chunk-0\n",
      "Add of existing embedding ID: Black White Minimalist CV Resume.pdf-chunk-1\n",
      "Add of existing embedding ID: Black White Minimalist CV Resume.pdf-chunk-2\n",
      "Add of existing embedding ID: Black White Minimalist CV Resume.pdf-chunk-3\n",
      "Add of existing embedding ID: Moussa THIOR - CV 2.docx-chunk-0\n",
      "Add of existing embedding ID: Moussa THIOR - CV 2.docx-chunk-1\n",
      "Add of existing embedding ID: CV_Samba.pdf-chunk-0\n",
      "Add of existing embedding ID: Grey White Black Minimalist CV Resume.pdf-chunk-0\n",
      "Add of existing embedding ID: CV_TEST.pdf-chunk-0\n",
      "Add of existing embedding ID: CV_Gnagna_Sarr_Valide.pdf-chunk-0\n",
      "Add of existing embedding ID: CV_Gnagna_Sarr_Valide.pdf-chunk-1\n",
      "Add of existing embedding ID: CV_Gnagna_Sarr_Valide.pdf-chunk-2\n",
      "Add of existing embedding ID: CV_Gnagna_Sarr_Valide.pdf-chunk-3\n",
      "Add of existing embedding ID: CV_Mame_Diarra.pdf-chunk-0\n",
      "Add of existing embedding ID: CV_Mame_Diarra.pdf-chunk-1\n",
      "Add of existing embedding ID: CV_Mame_Diarra.pdf-chunk-2\n",
      "Add of existing embedding ID: CV_Mame_Diarra.pdf-chunk-3\n",
      "Add of existing embedding ID: CV Français Professionnel Simple Moderne Beige.pdf-chunk-0\n",
      "Add of existing embedding ID: CV Français Professionnel Simple Moderne Beige.pdf-chunk-1\n",
      "Add of existing embedding ID: cv_Cheikh_Ndiaye.docx-chunk-0\n",
      "Add of existing embedding ID: cv_Cheikh_Ndiaye.docx-chunk-1\n",
      "Add of existing embedding ID: Professinal CV Resume.pdf-chunk-0\n",
      "Add of existing embedding ID: Professinal CV Resume.pdf-chunk-1\n",
      "Add of existing embedding ID: Professinal CV Resume.pdf-chunk-2\n",
      "Add of existing embedding ID: Professional Docs & Interview Prep Resume in Black White UConn Brand Style.pdf-chunk-0\n",
      "Add of existing embedding ID: Professional Docs & Interview Prep Resume in Black White UConn Brand Style.pdf-chunk-1\n",
      "Add of existing embedding ID: Professional Docs & Interview Prep Resume in Black White UConn Brand Style.pdf-chunk-2\n",
      "Add of existing embedding ID: Black White Minimalist CV Resume.pdf-chunk-0\n",
      "Add of existing embedding ID: Black White Minimalist CV Resume.pdf-chunk-1\n",
      "Add of existing embedding ID: Black White Minimalist CV Resume.pdf-chunk-2\n",
      "Add of existing embedding ID: Black White Minimalist CV Resume.pdf-chunk-3\n",
      "Add of existing embedding ID: Moussa THIOR - CV 2.docx-chunk-0\n",
      "Add of existing embedding ID: Moussa THIOR - CV 2.docx-chunk-1\n",
      "Add of existing embedding ID: CV_Samba.pdf-chunk-0\n",
      "Add of existing embedding ID: Grey White Black Minimalist CV Resume.pdf-chunk-0\n",
      "Add of existing embedding ID: CV_TEST.pdf-chunk-0\n",
      "Add of existing embedding ID: CV_Gnagna_Sarr_Valide.pdf-chunk-0\n",
      "Add of existing embedding ID: CV_Gnagna_Sarr_Valide.pdf-chunk-1\n",
      "Add of existing embedding ID: CV_Gnagna_Sarr_Valide.pdf-chunk-2\n",
      "Add of existing embedding ID: CV_Gnagna_Sarr_Valide.pdf-chunk-3\n",
      "Add of existing embedding ID: CV_Mame_Diarra.pdf-chunk-0\n",
      "Add of existing embedding ID: CV_Mame_Diarra.pdf-chunk-1\n",
      "Add of existing embedding ID: CV_Mame_Diarra.pdf-chunk-2\n",
      "Add of existing embedding ID: CV_Mame_Diarra.pdf-chunk-3\n",
      "Add of existing embedding ID: CV Français Professionnel Simple Moderne Beige.pdf-chunk-0\n",
      "Add of existing embedding ID: CV Français Professionnel Simple Moderne Beige.pdf-chunk-1\n",
      "Add of existing embedding ID: cv_Cheikh_Ndiaye.docx-chunk-0\n",
      "Add of existing embedding ID: cv_Cheikh_Ndiaye.docx-chunk-1\n",
      "Add of existing embedding ID: Professinal CV Resume.pdf-chunk-0\n",
      "Add of existing embedding ID: Professinal CV Resume.pdf-chunk-1\n",
      "Add of existing embedding ID: Professinal CV Resume.pdf-chunk-2\n",
      "Add of existing embedding ID: Professional Docs & Interview Prep Resume in Black White UConn Brand Style.pdf-chunk-0\n",
      "Add of existing embedding ID: Professional Docs & Interview Prep Resume in Black White UConn Brand Style.pdf-chunk-1\n",
      "Add of existing embedding ID: Professional Docs & Interview Prep Resume in Black White UConn Brand Style.pdf-chunk-2\n",
      "Add of existing embedding ID: Black White Minimalist CV Resume.pdf-chunk-0\n",
      "Add of existing embedding ID: Black White Minimalist CV Resume.pdf-chunk-1\n",
      "Add of existing embedding ID: Black White Minimalist CV Resume.pdf-chunk-2\n",
      "Add of existing embedding ID: Black White Minimalist CV Resume.pdf-chunk-3\n",
      "Add of existing embedding ID: Moussa THIOR - CV 2.docx-chunk-0\n",
      "Add of existing embedding ID: Moussa THIOR - CV 2.docx-chunk-1\n",
      "Add of existing embedding ID: CV_Samba.pdf-chunk-0\n",
      "Add of existing embedding ID: Grey White Black Minimalist CV Resume.pdf-chunk-0\n",
      "Add of existing embedding ID: CV_TEST.pdf-chunk-0\n",
      "Add of existing embedding ID: CV_Gnagna_Sarr_Valide.pdf-chunk-0\n",
      "Add of existing embedding ID: CV_Gnagna_Sarr_Valide.pdf-chunk-1\n",
      "Add of existing embedding ID: CV_Gnagna_Sarr_Valide.pdf-chunk-2\n",
      "Add of existing embedding ID: CV_Gnagna_Sarr_Valide.pdf-chunk-3\n",
      "Add of existing embedding ID: CV_Mame_Diarra.pdf-chunk-0\n",
      "Add of existing embedding ID: CV_Mame_Diarra.pdf-chunk-1\n",
      "Add of existing embedding ID: CV_Mame_Diarra.pdf-chunk-2\n",
      "Add of existing embedding ID: CV_Mame_Diarra.pdf-chunk-3\n",
      "Add of existing embedding ID: CV Français Professionnel Simple Moderne Beige.pdf-chunk-0\n",
      "Add of existing embedding ID: CV Français Professionnel Simple Moderne Beige.pdf-chunk-1\n",
      "Add of existing embedding ID: cv_Cheikh_Ndiaye.docx-chunk-0\n",
      "Add of existing embedding ID: cv_Cheikh_Ndiaye.docx-chunk-1\n",
      "Add of existing embedding ID: Professinal CV Resume.pdf-chunk-0\n",
      "Add of existing embedding ID: Professinal CV Resume.pdf-chunk-1\n",
      "Add of existing embedding ID: Professinal CV Resume.pdf-chunk-2\n"
     ]
    }
   ],
   "source": [
    "prompt = \"donne moi les documents les plus anciennes\"\n",
    "results = chroma_vdb.query(\n",
    "    query_texts=[prompt], n_results=4, include=['metadatas','distances']\n",
    ")"
   ]
  },
  {
   "cell_type": "code",
   "execution_count": 16,
   "metadata": {},
   "outputs": [
    {
     "data": {
      "text/plain": [
       "None"
      ]
     },
     "metadata": {},
     "output_type": "display_data"
    },
    {
     "data": {
      "text/plain": [
       "None"
      ]
     },
     "metadata": {},
     "output_type": "display_data"
    },
    {
     "data": {
      "text/plain": [
       "None"
      ]
     },
     "metadata": {},
     "output_type": "display_data"
    },
    {
     "data": {
      "text/plain": [
       "None"
      ]
     },
     "metadata": {},
     "output_type": "display_data"
    }
   ],
   "source": [
    "for uri in results['uris'][0]:\n",
    "    display(uri)"
   ]
  },
  {
   "cell_type": "code",
   "execution_count": 12,
   "metadata": {},
   "outputs": [
    {
     "name": "stderr",
     "output_type": "stream",
     "text": [
      "2025-02-08 23:07:16.687 WARNING streamlit.runtime.scriptrunner_utils.script_run_context: Thread 'MainThread': missing ScriptRunContext! This warning can be ignored when running in bare mode.\n",
      "2025-02-08 23:07:16.691 WARNING streamlit.runtime.scriptrunner_utils.script_run_context: Thread 'MainThread': missing ScriptRunContext! This warning can be ignored when running in bare mode.\n",
      "2025-02-08 23:07:16.830 \n",
      "  \u001b[33m\u001b[1mWarning:\u001b[0m to view this Streamlit app on a browser, run it with the following\n",
      "  command:\n",
      "\n",
      "    streamlit run /Users/mamadou.sene/Personnel/IRIS_RH/venv/lib/python3.13/site-packages/ipykernel_launcher.py [ARGUMENTS]\n",
      "2025-02-08 23:07:16.831 Thread 'MainThread': missing ScriptRunContext! This warning can be ignored when running in bare mode.\n",
      "2025-02-08 23:07:16.831 Thread 'MainThread': missing ScriptRunContext! This warning can be ignored when running in bare mode.\n",
      "2025-02-08 23:07:16.831 Thread 'MainThread': missing ScriptRunContext! This warning can be ignored when running in bare mode.\n",
      "2025-02-08 23:07:16.831 Thread 'MainThread': missing ScriptRunContext! This warning can be ignored when running in bare mode.\n",
      "2025-02-08 23:07:16.832 Thread 'MainThread': missing ScriptRunContext! This warning can be ignored when running in bare mode.\n",
      "2025-02-08 23:07:16.832 Thread 'MainThread': missing ScriptRunContext! This warning can be ignored when running in bare mode.\n",
      "2025-02-08 23:07:16.832 Thread 'MainThread': missing ScriptRunContext! This warning can be ignored when running in bare mode.\n",
      "2025-02-08 23:07:16.833 Thread 'MainThread': missing ScriptRunContext! This warning can be ignored when running in bare mode.\n",
      "2025-02-08 23:07:16.833 Thread 'MainThread': missing ScriptRunContext! This warning can be ignored when running in bare mode.\n",
      "2025-02-08 23:07:16.833 Thread 'MainThread': missing ScriptRunContext! This warning can be ignored when running in bare mode.\n",
      "2025-02-08 23:07:16.833 Thread 'MainThread': missing ScriptRunContext! This warning can be ignored when running in bare mode.\n",
      "2025-02-08 23:07:16.833 Thread 'MainThread': missing ScriptRunContext! This warning can be ignored when running in bare mode.\n",
      "2025-02-08 23:07:16.833 Thread 'MainThread': missing ScriptRunContext! This warning can be ignored when running in bare mode.\n",
      "2025-02-08 23:07:16.834 Thread 'MainThread': missing ScriptRunContext! This warning can be ignored when running in bare mode.\n",
      "2025-02-08 23:07:16.834 Session state does not function when running a script without `streamlit run`\n",
      "2025-02-08 23:07:16.834 Thread 'MainThread': missing ScriptRunContext! This warning can be ignored when running in bare mode.\n",
      "2025-02-08 23:07:16.834 Thread 'MainThread': missing ScriptRunContext! This warning can be ignored when running in bare mode.\n"
     ]
    }
   ],
   "source": [
    "\n",
    "def main():\n",
    "    st.set_page_config(layout=\"wide\")\n",
    "    st.title(\"Assistant documentaire RAG avec Ollama\")\n",
    "    \n",
    "    # Zone de téléchargement de documents\n",
    "    st.subheader(\"Téléchargement de documents\")\n",
    "    uploaded_file = st.file_uploader(\n",
    "        \"Téléchargez un document (PDF ou Word)\",\n",
    "        type=['pdf', 'docx', 'doc']\n",
    "    )\n",
    "    \n",
    "    if uploaded_file:\n",
    "        with st.spinner(\"Traitement du document...\"):\n",
    "            try:\n",
    "                text = process_document(uploaded_file)\n",
    "                document_id = uploaded_file.name\n",
    "                add_document_to_vectorstore(text, document_id)\n",
    "                st.success(f\"Document '{document_id}' ajouté avec succès!\")\n",
    "            except Exception as e:\n",
    "                st.error(f\"Erreur lors du traitement du document: {str(e)}\")\n",
    "    \n",
    "    # Zone de chat\n",
    "    st.subheader(\"Zone de discussion\")\n",
    "    user_question = st.text_input(\"Posez votre question :\")\n",
    "    \n",
    "    if user_question:\n",
    "        with st.spinner(\"Recherche en cours...\"):\n",
    "            # Recherche des documents pertinents\n",
    "            results = search_documents(user_question)\n",
    "            \n",
    "            if results[\"documents\"]:\n",
    "                # Préparation du contexte\n",
    "                context = \"\\n\".join(results[\"documents\"][0])\n",
    "                \n",
    "                # Génération de la réponse\n",
    "                response = chain.invoke({\n",
    "                    \"context\": context,\n",
    "                    \"question\": user_question\n",
    "                })\n",
    "                \n",
    "                st.markdown(\"### Réponse:\")\n",
    "                st.markdown(response)\n",
    "            else:\n",
    "                st.warning(\"Aucun document pertinent trouvé pour votre question.\")\n",
    "\n",
    "if __name__ == \"__main__\":\n",
    "    main()"
   ]
  }
 ],
 "metadata": {
  "kernelspec": {
   "display_name": "venv",
   "language": "python",
   "name": "python3"
  },
  "language_info": {
   "codemirror_mode": {
    "name": "ipython",
    "version": 3
   },
   "file_extension": ".py",
   "mimetype": "text/x-python",
   "name": "python",
   "nbconvert_exporter": "python",
   "pygments_lexer": "ipython3",
   "version": "3.13.2"
  }
 },
 "nbformat": 4,
 "nbformat_minor": 2
}
